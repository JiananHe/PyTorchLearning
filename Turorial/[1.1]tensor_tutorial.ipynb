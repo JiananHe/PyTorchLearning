{
 "cells": [
  {
   "cell_type": "code",
   "execution_count": 25,
   "metadata": {},
   "outputs": [],
   "source": [
    "%matplotlib inline"
   ]
  },
  {
   "cell_type": "markdown",
   "metadata": {},
   "source": [
    "\n",
    "# PyTorch是什么?\n",
    "\n",
    "它是一个基于Python的科学计算包，针对两类用户：\n",
    "\n",
    "-  替代NumPy使用GPUs的功能\n",
    "-  一个最大灵活性且快速的深度学习研究平台\n",
    "\n",
    "## 入门\n",
    "\n",
    "### Tensors\n",
    "\n",
    "Tensors与NumPy的ndarrays类似，不同点在于Tensors可以被用在GPU上来加速计算。\n",
    "\n"
   ]
  },
  {
   "cell_type": "code",
   "execution_count": 26,
   "metadata": {},
   "outputs": [],
   "source": [
    "from __future__ import print_function\n",
    "import torch"
   ]
  },
  {
   "cell_type": "markdown",
   "metadata": {},
   "source": [
    "构造一个5x3的未初始化的矩阵:\n",
    "\n"
   ]
  },
  {
   "cell_type": "code",
   "execution_count": 27,
   "metadata": {},
   "outputs": [
    {
     "name": "stdout",
     "output_type": "stream",
     "text": [
      "tensor([[9.2755e-39, 1.0561e-38, 4.5001e-39],\n",
      "        [4.5918e-39, 5.2347e-39, 4.2246e-39],\n",
      "        [1.0286e-38, 1.0653e-38, 1.0194e-38],\n",
      "        [8.4490e-39, 1.0469e-38, 9.3674e-39],\n",
      "        [9.9184e-39, 8.7245e-39, 9.2755e-39]])\n"
     ]
    }
   ],
   "source": [
    "x = torch.empty(5, 3)\n",
    "print(x)"
   ]
  },
  {
   "cell_type": "markdown",
   "metadata": {},
   "source": [
    "构造一个随机初始化的矩阵：\n"
   ]
  },
  {
   "cell_type": "code",
   "execution_count": 28,
   "metadata": {},
   "outputs": [
    {
     "name": "stdout",
     "output_type": "stream",
     "text": [
      "tensor([[0.4622, 0.6130, 0.3688],\n",
      "        [0.6646, 0.8553, 0.7672],\n",
      "        [0.7244, 0.9218, 0.9900],\n",
      "        [0.7845, 0.1664, 0.1185],\n",
      "        [0.5736, 0.8776, 0.7380]])\n"
     ]
    }
   ],
   "source": [
    "x = torch.rand(5, 3) #从区间[0, 1)的均匀分布中抽取的一组随机数\n",
    "print(x)"
   ]
  },
  {
   "cell_type": "code",
   "execution_count": 29,
   "metadata": {},
   "outputs": [
    {
     "name": "stdout",
     "output_type": "stream",
     "text": [
      "tensor([[ 0.0867,  0.0768,  1.5253],\n",
      "        [ 1.9090,  1.0343, -0.9269],\n",
      "        [ 1.6954, -0.1689,  0.5888],\n",
      "        [-1.7752,  1.5916, -1.9801],\n",
      "        [-0.7347,  1.1672, -1.1405]])\n"
     ]
    }
   ],
   "source": [
    "x = torch.randn(5, 3) #从标准正态分布（均值为0，方差为1，即高斯白噪声）中抽取的一组随机数\n",
    "print(x)"
   ]
  },
  {
   "cell_type": "markdown",
   "metadata": {},
   "source": [
    "构造dtype为long的全0矩阵：\n"
   ]
  },
  {
   "cell_type": "code",
   "execution_count": 30,
   "metadata": {},
   "outputs": [
    {
     "name": "stdout",
     "output_type": "stream",
     "text": [
      "tensor([[0, 0, 0],\n",
      "        [0, 0, 0],\n",
      "        [0, 0, 0],\n",
      "        [0, 0, 0],\n",
      "        [0, 0, 0]])\n"
     ]
    }
   ],
   "source": [
    "x = torch.zeros(5, 3, dtype=torch.long)\n",
    "print(x)"
   ]
  },
  {
   "cell_type": "markdown",
   "metadata": {},
   "source": [
    "直接从数据中构造tensor：\n"
   ]
  },
  {
   "cell_type": "code",
   "execution_count": 31,
   "metadata": {},
   "outputs": [
    {
     "name": "stdout",
     "output_type": "stream",
     "text": [
      "tensor([5.5000, 3.0000])\n"
     ]
    }
   ],
   "source": [
    "x = torch.tensor([5.5, 3])\n",
    "print(x)"
   ]
  },
  {
   "cell_type": "markdown",
   "metadata": {},
   "source": [
    "基于一个已有的tensor来创建一个tensor。除非用户提高新的值，否则这些方法将复用输入tensor的属性，例如dtype。\n"
   ]
  },
  {
   "cell_type": "code",
   "execution_count": 32,
   "metadata": {},
   "outputs": [
    {
     "name": "stdout",
     "output_type": "stream",
     "text": [
      "tensor([[1., 1., 1.],\n",
      "        [1., 1., 1.],\n",
      "        [1., 1., 1.],\n",
      "        [1., 1., 1.],\n",
      "        [1., 1., 1.]], dtype=torch.float64)\n",
      "tensor([[-0.1805, -2.2719,  0.1605],\n",
      "        [ 0.2035, -1.1823,  0.6890],\n",
      "        [-0.0636, -0.7252, -1.6976],\n",
      "        [ 0.8846, -0.0571,  0.5445],\n",
      "        [-0.6878,  2.1272, -0.7658]])\n"
     ]
    }
   ],
   "source": [
    "x = x.new_ones(5, 3, dtype=torch.double)      # new_* 方法，需输入sizes\n",
    "print(x)\n",
    "\n",
    "x = torch.randn_like(x, dtype=torch.float)    # 覆盖 dtype!\n",
    "print(x)                                      # 结果有相同的size"
   ]
  },
  {
   "cell_type": "markdown",
   "metadata": {},
   "source": [
    "获取tensor的size:\n"
   ]
  },
  {
   "cell_type": "code",
   "execution_count": 33,
   "metadata": {},
   "outputs": [
    {
     "name": "stdout",
     "output_type": "stream",
     "text": [
      "torch.Size([5, 3])\n"
     ]
    }
   ],
   "source": [
    "print(x.size())"
   ]
  },
  {
   "cell_type": "markdown",
   "metadata": {},
   "source": [
    ">``torch.Size``实际上是一个tuple(元组)，所以它支持所有元组操作。</p></div>\n"
   ]
  },
  {
   "cell_type": "markdown",
   "metadata": {},
   "source": [
    "### 操作\n",
    "\n",
    "PyTorch中的操作有多种语法。下面我们来看看加法操作。\n",
    "\n",
    "加法: 语法 1"
   ]
  },
  {
   "cell_type": "code",
   "execution_count": 34,
   "metadata": {},
   "outputs": [
    {
     "name": "stdout",
     "output_type": "stream",
     "text": [
      "tensor([[-0.1107, -1.3598,  0.2047],\n",
      "        [ 0.9173, -0.6006,  1.4937],\n",
      "        [ 0.2541, -0.5597, -0.9516],\n",
      "        [ 1.3623,  0.4293,  1.1828],\n",
      "        [-0.0404,  2.8328, -0.3035]])\n"
     ]
    }
   ],
   "source": [
    "y = torch.rand(5, 3)\n",
    "print(x + y)"
   ]
  },
  {
   "cell_type": "markdown",
   "metadata": {},
   "source": [
    "加法: 语法 2\n"
   ]
  },
  {
   "cell_type": "code",
   "execution_count": 35,
   "metadata": {},
   "outputs": [
    {
     "name": "stdout",
     "output_type": "stream",
     "text": [
      "tensor([[-0.1107, -1.3598,  0.2047],\n",
      "        [ 0.9173, -0.6006,  1.4937],\n",
      "        [ 0.2541, -0.5597, -0.9516],\n",
      "        [ 1.3623,  0.4293,  1.1828],\n",
      "        [-0.0404,  2.8328, -0.3035]])\n"
     ]
    }
   ],
   "source": [
    "print(torch.add(x, y))"
   ]
  },
  {
   "cell_type": "markdown",
   "metadata": {},
   "source": [
    "加法: 提供一个输出张量作为参数\n",
    "\n"
   ]
  },
  {
   "cell_type": "code",
   "execution_count": 36,
   "metadata": {},
   "outputs": [
    {
     "name": "stdout",
     "output_type": "stream",
     "text": [
      "tensor([[-0.1107, -1.3598,  0.2047],\n",
      "        [ 0.9173, -0.6006,  1.4937],\n",
      "        [ 0.2541, -0.5597, -0.9516],\n",
      "        [ 1.3623,  0.4293,  1.1828],\n",
      "        [-0.0404,  2.8328, -0.3035]])\n"
     ]
    }
   ],
   "source": [
    "result = torch.empty(5, 3) #需要先初始化\n",
    "torch.add(x, y, out=result)\n",
    "print(result)"
   ]
  },
  {
   "cell_type": "markdown",
   "metadata": {},
   "source": [
    "加法: in-place\n",
    "\n"
   ]
  },
  {
   "cell_type": "code",
   "execution_count": 37,
   "metadata": {},
   "outputs": [
    {
     "name": "stdout",
     "output_type": "stream",
     "text": [
      "tensor([[-0.1107, -1.3598,  0.2047],\n",
      "        [ 0.9173, -0.6006,  1.4937],\n",
      "        [ 0.2541, -0.5597, -0.9516],\n",
      "        [ 1.3623,  0.4293,  1.1828],\n",
      "        [-0.0404,  2.8328, -0.3035]])\n"
     ]
    }
   ],
   "source": [
    "# 将x加给y\n",
    "y.add_(x)\n",
    "print(y)"
   ]
  },
  {
   "cell_type": "markdown",
   "metadata": {},
   "source": [
    ">任何对tensor进行in-place改变的操作，它后面都有一个``_``，例如: ``x.copy_(y)``, ``x.t_()``, 都会改变``x``。\n"
   ]
  },
  {
   "cell_type": "markdown",
   "metadata": {},
   "source": [
    "\n",
    "你可以随心所欲地使用标准的NumPy-like下标访问方法！"
   ]
  },
  {
   "cell_type": "code",
   "execution_count": 38,
   "metadata": {},
   "outputs": [
    {
     "name": "stdout",
     "output_type": "stream",
     "text": [
      "tensor([-1.3598, -0.6006, -0.5597,  0.4293,  2.8328])\n"
     ]
    }
   ],
   "source": [
    "print(y[:, 1])"
   ]
  },
  {
   "cell_type": "code",
   "execution_count": 39,
   "metadata": {},
   "outputs": [
    {
     "name": "stdout",
     "output_type": "stream",
     "text": [
      "tensor([ 0.2047,  1.4937, -0.9516,  1.1828, -0.3035])\n"
     ]
    }
   ],
   "source": [
    "print(y[:, -1])"
   ]
  },
  {
   "cell_type": "markdown",
   "metadata": {},
   "source": [
    "放缩：如果想要resize/reshape一个tensor，可以使用``torch.view``：\n"
   ]
  },
  {
   "cell_type": "code",
   "execution_count": 40,
   "metadata": {},
   "outputs": [
    {
     "name": "stdout",
     "output_type": "stream",
     "text": [
      "torch.Size([4, 4]) torch.Size([16]) torch.Size([2, 8])\n"
     ]
    }
   ],
   "source": [
    "x = torch.randn(4, 4)\n",
    "y = x.view(16)\n",
    "z = x.view(-1, 8)  # size -1由其他维度推断出来\n",
    "print(x.size(), y.size(), z.size())"
   ]
  },
  {
   "cell_type": "markdown",
   "metadata": {},
   "source": [
    "如果有一个单数据的tensor，使用``.item()``来获取该数据，得到一个Python数字。\n"
   ]
  },
  {
   "cell_type": "code",
   "execution_count": 41,
   "metadata": {},
   "outputs": [
    {
     "name": "stdout",
     "output_type": "stream",
     "text": [
      "tensor([-0.6330])\n",
      "-0.6329890489578247\n"
     ]
    }
   ],
   "source": [
    "x = torch.randn(1)\n",
    "print(x)\n",
    "print(x.item())"
   ]
  },
  {
   "cell_type": "markdown",
   "metadata": {},
   "source": [
    "**延展阅读**\n",
    "\n",
    "100多种Tensor操作，包括置换(transposing)，检索(indexing)，切片(slicing)，数学运算(mathematical operations)，线性代数(linear algebra)，随机数(random numbers)，等等，查看[here](https://pytorch.org/docs/torch)。\n"
   ]
  },
  {
   "cell_type": "markdown",
   "metadata": {},
   "source": [
    "\n",
    "## NumPy Bridge\n",
    "\n",
    "可以将一个Torch Tensor转为一个Numpy array，反之亦行。\n",
    "\n",
    "Torch Tensor和Numpy array将共享它们的底层内存位置(如果Torch Tensor是在CPU上)，改变其中一个，另一个也会改变。\n",
    "The Torch Tensor and NumPy array will share their underlying memory\n",
    "\n",
    "### 将Torch Tensor转为Numpy Array"
   ]
  },
  {
   "cell_type": "code",
   "execution_count": 42,
   "metadata": {},
   "outputs": [
    {
     "name": "stdout",
     "output_type": "stream",
     "text": [
      "tensor([1., 1., 1., 1., 1.])\n"
     ]
    }
   ],
   "source": [
    "a = torch.ones(5)\n",
    "print(a)"
   ]
  },
  {
   "cell_type": "code",
   "execution_count": 43,
   "metadata": {},
   "outputs": [
    {
     "name": "stdout",
     "output_type": "stream",
     "text": [
      "[1. 1. 1. 1. 1.]\n"
     ]
    }
   ],
   "source": [
    "b = a.numpy()\n",
    "print(b)"
   ]
  },
  {
   "cell_type": "markdown",
   "metadata": {},
   "source": [
    "numpy array的值也会改变：\n"
   ]
  },
  {
   "cell_type": "code",
   "execution_count": 44,
   "metadata": {},
   "outputs": [
    {
     "name": "stdout",
     "output_type": "stream",
     "text": [
      "tensor([2., 2., 2., 2., 2.])\n",
      "[2. 2. 2. 2. 2.]\n"
     ]
    }
   ],
   "source": [
    "a.add_(1)\n",
    "print(a)\n",
    "print(b)"
   ]
  },
  {
   "cell_type": "code",
   "execution_count": 45,
   "metadata": {},
   "outputs": [
    {
     "name": "stdout",
     "output_type": "stream",
     "text": [
      "tensor([3., 3., 3., 3., 3.])\n",
      "[3. 3. 3. 3. 3.]\n"
     ]
    }
   ],
   "source": [
    "torch.add(a, 1, out=a)\n",
    "print(a)\n",
    "print(b)"
   ]
  },
  {
   "cell_type": "markdown",
   "metadata": {},
   "source": [
    "当使用非in-place操作时，numpy array不会随之改变："
   ]
  },
  {
   "cell_type": "code",
   "execution_count": 46,
   "metadata": {},
   "outputs": [
    {
     "name": "stdout",
     "output_type": "stream",
     "text": [
      "tensor([2., 2., 2., 2., 2.])\n",
      "[1. 1. 1. 1. 1.]\n"
     ]
    }
   ],
   "source": [
    "a = torch.ones(5)\n",
    "b = a.numpy()\n",
    "a = torch.add(a, 1)\n",
    "print(a)\n",
    "print(b)"
   ]
  },
  {
   "cell_type": "markdown",
   "metadata": {},
   "source": [
    "### 将NumPy Array转为Torch Tensor\n",
    "\n",
    "改变np array，tensor也会随之自动改变"
   ]
  },
  {
   "cell_type": "code",
   "execution_count": 47,
   "metadata": {},
   "outputs": [
    {
     "name": "stdout",
     "output_type": "stream",
     "text": [
      "[2. 2. 2. 2. 2.]\n",
      "tensor([2., 2., 2., 2., 2.], dtype=torch.float64)\n"
     ]
    }
   ],
   "source": [
    "import numpy as np\n",
    "a = np.ones(5)\n",
    "b = torch.from_numpy(a)\n",
    "np.add(a, 1, out=a)\n",
    "print(a)\n",
    "print(b)"
   ]
  },
  {
   "cell_type": "markdown",
   "metadata": {},
   "source": [
    "除了CharTensor，所有CPU上的Tensor都支持转为Numpy与转回来。"
   ]
  },
  {
   "cell_type": "markdown",
   "metadata": {},
   "source": [
    "## CUDA Tensors\n",
    "\n",
    "使用``.to``方法，Tensors可以被移动到任何设备\n"
   ]
  },
  {
   "cell_type": "code",
   "execution_count": 48,
   "metadata": {},
   "outputs": [
    {
     "name": "stdout",
     "output_type": "stream",
     "text": [
      "tensor([0.3670], device='cuda:0')\n",
      "tensor([0.3670], dtype=torch.float64)\n"
     ]
    }
   ],
   "source": [
    "# 只有当CUDA可用时，才运行这段代码\n",
    "# 我们将使用\"torch.device\"对象来将tensors移入和移出GPU。\n",
    "if torch.cuda.is_available():\n",
    "    device = torch.device(\"cuda\")          # CUDA device 对象\n",
    "    y = torch.ones_like(x, device=device)  # 直接在GPU上创建tensor\n",
    "    x = x.to(device)                       # 或者直接使用\".to(cuda)\"\n",
    "    z = x + y\n",
    "    print(z)\n",
    "    print(z.to(\"cpu\", torch.double))       # \".to\"也可以一起改变dtyep"
   ]
  }
 ],
 "metadata": {
  "kernelspec": {
   "display_name": "Python 3",
   "language": "python",
   "name": "python3"
  },
  "language_info": {
   "codemirror_mode": {
    "name": "ipython",
    "version": 3
   },
   "file_extension": ".py",
   "mimetype": "text/x-python",
   "name": "python",
   "nbconvert_exporter": "python",
   "pygments_lexer": "ipython3",
   "version": "3.6.8"
  }
 },
 "nbformat": 4,
 "nbformat_minor": 1
}
