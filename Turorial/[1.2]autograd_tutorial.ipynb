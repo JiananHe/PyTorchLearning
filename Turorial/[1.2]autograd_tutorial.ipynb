{
 "cells": [
  {
   "cell_type": "code",
   "execution_count": 39,
   "metadata": {},
   "outputs": [],
   "source": [
    "%matplotlib inline"
   ]
  },
  {
   "cell_type": "markdown",
   "metadata": {},
   "source": [
    "\n",
    "# Autograd: 自动微分\n",
    "\n",
    "PyTorch中所有神经网络的中心是``autograd``包。我们首先简单地看下这个包，然后来训练我们的第一个神经网络。\n",
    "\n",
    "``autograd``包可以对所有在Tensors上进行的操作进行自动微分(differentiation)。它是一个由运行定义(define-by-run)的框架，意味着你的反向传递是由你的代码运行过程来定义的，并且每个单步的迭代都可以被微分。\n",
    "\n",
    "让我们用更简单的术语和一些例子来看看。\n",
    "\n",
    "## Tensor\n",
    " \n",
    "``torch.Tensor``是这个包的中心类。如果你将它的属性``.requires_grad``设置为``True``，它就会开始去跟踪所有对它的操作。当你完成你的计算，你可以调用``.backward()``，然后梯度就会自动被计算。这个tensor的梯度将被累积进``.grad``属性。\n",
    "\n",
    "要**停止**一个tensor的历史跟踪，你可以调用``.detach()``，来将这个tensor从计算历史中分离出来，并且阻止之后的计算被跟踪。\n",
    "\n",
    "为了**阻止**历史跟踪(以及内存的使用)，你也可以将代码块封装进``with torch.no_grad():``。在评估一个模型时，这种操作会特别有用，因为这个模型可能有``requires_grad=True``的可训练参数，但是在评估时我们不需要计算梯度。\n",
    "\n",
    "还有一个类对自动梯度实现非常重要——``Function``。\n",
    "\n",
    "``Tensor`` 和 ``Function``互相连接，构建起一个非循环图，它编码了完整的计算历史。每个tensor会有一个``.grad_fn``属性，它指代创建该``Tensor``的``Function``(用户创建的Tensors除外，它们``grad_fn``是``None``)。\n",
    "\n",
    "如果你想计算偏导，可以在一个``Tensor``上调用``.backward()``。如果``Tensor``是一个标量(也就是说它只保存了一个元素数据)，则没必要声明``.backward()``的任何参数；当如果它有多个元素，则需要声明一个``gradient``参数，一个有着相匹配shape的tensor。\n",
    "\n"
   ]
  },
  {
   "cell_type": "code",
   "execution_count": 40,
   "metadata": {},
   "outputs": [],
   "source": [
    "import torch"
   ]
  },
  {
   "cell_type": "markdown",
   "metadata": {},
   "source": [
    "创建一个tensor，设置``requires_grad=True``，来跟踪计算：\n"
   ]
  },
  {
   "cell_type": "code",
   "execution_count": 41,
   "metadata": {},
   "outputs": [
    {
     "name": "stdout",
     "output_type": "stream",
     "text": [
      "tensor([[1., 1.],\n",
      "        [1., 1.]], requires_grad=True)\n"
     ]
    }
   ],
   "source": [
    "x = torch.ones(2, 2, requires_grad=True)\n",
    "print(x)"
   ]
  },
  {
   "cell_type": "markdown",
   "metadata": {},
   "source": [
    "进行一个tensor操作：\n",
    "\n"
   ]
  },
  {
   "cell_type": "code",
   "execution_count": 42,
   "metadata": {},
   "outputs": [
    {
     "name": "stdout",
     "output_type": "stream",
     "text": [
      "tensor([[3., 3.],\n",
      "        [3., 3.]], grad_fn=<AddBackward0>)\n"
     ]
    }
   ],
   "source": [
    "y = x + 2\n",
    "print(y)"
   ]
  },
  {
   "cell_type": "markdown",
   "metadata": {},
   "source": [
    "``y``是由操作的结果创建的，所有它有``grad_fn``：\n"
   ]
  },
  {
   "cell_type": "code",
   "execution_count": 43,
   "metadata": {},
   "outputs": [
    {
     "name": "stdout",
     "output_type": "stream",
     "text": [
      "<AddBackward0 object at 0x0000019368B09BA8>\n"
     ]
    }
   ],
   "source": [
    "print(y.grad_fn)"
   ]
  },
  {
   "cell_type": "markdown",
   "metadata": {},
   "source": [
    "在``y``进行更多操作：\n"
   ]
  },
  {
   "cell_type": "code",
   "execution_count": 44,
   "metadata": {},
   "outputs": [
    {
     "name": "stdout",
     "output_type": "stream",
     "text": [
      "tensor([[27., 27.],\n",
      "        [27., 27.]], grad_fn=<MulBackward0>) tensor(27., grad_fn=<MeanBackward0>)\n"
     ]
    }
   ],
   "source": [
    "z = y * y * 3\n",
    "out = z.mean()\n",
    "\n",
    "print(z, out)"
   ]
  },
  {
   "cell_type": "markdown",
   "metadata": {},
   "source": [
    "``.requires_grad_(...)``in-place改变一个已有Tensor的``requires_grad``标志，默认为``False``：\n"
   ]
  },
  {
   "cell_type": "code",
   "execution_count": 45,
   "metadata": {},
   "outputs": [
    {
     "name": "stdout",
     "output_type": "stream",
     "text": [
      "False\n",
      "None\n"
     ]
    }
   ],
   "source": [
    "a = torch.randn(2, 2)\n",
    "a = ((a * 3) / (a - 1))\n",
    "b = (a * a).sum()\n",
    "print(a.requires_grad)\n",
    "print(b.grad_fn)\n"
   ]
  },
  {
   "cell_type": "code",
   "execution_count": 46,
   "metadata": {},
   "outputs": [
    {
     "name": "stdout",
     "output_type": "stream",
     "text": [
      "True\n",
      "<SumBackward0 object at 0x0000019368B165C0>\n"
     ]
    }
   ],
   "source": [
    "a.requires_grad_(True)\n",
    "print(a.requires_grad)\n",
    "b = (a * a).sum()\n",
    "print(b.grad_fn)"
   ]
  },
  {
   "cell_type": "markdown",
   "metadata": {},
   "source": [
    "## Gradients\n",
    "\n",
    "现在来看反向传递。\n",
    "\n",
    "因为 ``out``只包含一个标量，``out.backward()``等价于 ``out.backward(torch.tensor(1.))``。\n"
   ]
  },
  {
   "cell_type": "code",
   "execution_count": 47,
   "metadata": {},
   "outputs": [],
   "source": [
    "out.backward()"
   ]
  },
  {
   "cell_type": "markdown",
   "metadata": {},
   "source": [
    "输出导数 d(out)/dx\n"
   ]
  },
  {
   "cell_type": "code",
   "execution_count": 48,
   "metadata": {},
   "outputs": [
    {
     "name": "stdout",
     "output_type": "stream",
     "text": [
      "tensor([[4.5000, 4.5000],\n",
      "        [4.5000, 4.5000]])\n"
     ]
    }
   ],
   "source": [
    "print(x.grad)"
   ]
  },
  {
   "cell_type": "markdown",
   "metadata": {},
   "source": [
    "应该是会得到一个元素全为``4.5``的矩阵。简称*Tensor* ``out``为“$o$”。有$o=\\frac{1}{4}\\sum_i z_i=\\frac{1}{4}\\sum_i3(x_i+2)^2$。因此，$\\frac{\\partial o}{\\partial x_i}\\bigr\\rvert_{x_i=1}=\\frac{\\partial o}{\\partial z_i}*\\frac{\\partial z_i}{\\partial x_i}=\\frac{1}{4}*6(x_i+2)=\\frac{9}{2} = 4.5$。"
   ]
  },
  {
   "cell_type": "markdown",
   "metadata": {},
   "source": [
    "数学上，如果有一个向量值函数$\\vec{y}=f(\\vec{x})$，则$\\vec{y}$对$\\vec{x}$的梯度就是一个Jacobian矩阵：\n",
    "\\begin{align}J=\\left(\\begin{array}{ccc}\n",
    "   \\frac{\\partial y_{1}}{\\partial x_{1}} & \\cdots & \\frac{\\partial y_{1}}{\\partial x_{n}}\\\\\n",
    "   \\vdots & \\ddots & \\vdots\\\\\n",
    "   \\frac{\\partial y_{m}}{\\partial x_{1}} & \\cdots & \\frac{\\partial y_{m}}{\\partial x_{n}}\n",
    "   \\end{array}\\right)\\end{align}\n",
    "\n",
    "\n",
    "一般来说，``torch.autograd``是一个计算vector-Jacobian乘积的引擎。就是说，给定任意向量$v=\\left(\\begin{array}{cccc} v_{1} & v_{2} & \\cdots & v_{m}\\end{array}\\right)^{T}$，计算乘积$v^{T}\\cdot J$。如果$v$是一个标量函数$l=g\\left(\\vec{y}\\right)$的梯度，即$v=\\left(\\begin{array}{ccc}\\frac{\\partial l}{\\partial y_{1}} & \\cdots & \\frac{\\partial l}{\\partial y_{m}}\\end{array}\\right)^{T}$，按照链式法则，vector-Jacobian乘积就是$l$对$\\vec{x}$的导数：\n",
    "\\begin{align}J^{T}\\cdot v=\\left(\\begin{array}{ccc}\n",
    "   \\frac{\\partial y_{1}}{\\partial x_{1}} & \\cdots & \\frac{\\partial y_{m}}{\\partial x_{1}}\\\\\n",
    "   \\vdots & \\ddots & \\vdots\\\\\n",
    "   \\frac{\\partial y_{1}}{\\partial x_{n}} & \\cdots & \\frac{\\partial y_{m}}{\\partial x_{n}}\n",
    "   \\end{array}\\right)\\left(\\begin{array}{c}\n",
    "   \\frac{\\partial l}{\\partial y_{1}}\\\\\n",
    "   \\vdots\\\\\n",
    "   \\frac{\\partial l}{\\partial y_{m}}\n",
    "   \\end{array}\\right)=\\left(\\begin{array}{c}\n",
    "   \\frac{\\partial l}{\\partial x_{1}}\\\\\n",
    "   \\vdots\\\\\n",
    "   \\frac{\\partial l}{\\partial x_{n}}\n",
    "   \\end{array}\\right)\\end{align}\n",
    "\n",
    "(注意，$v^{T}\\cdot J$给出的是行向量，但也可以通过$J^{T}\\cdot v$来当作列向量处理。)\n",
    "\n",
    "vector-Jacobian乘积的特性使得将外部梯度输入具有非标量输出的模型非常方便。\n",
    "\n"
   ]
  },
  {
   "cell_type": "markdown",
   "metadata": {},
   "source": [
    "现在我们来看一个vector-Jacobian乘积的例子：\n"
   ]
  },
  {
   "cell_type": "code",
   "execution_count": 49,
   "metadata": {},
   "outputs": [
    {
     "name": "stdout",
     "output_type": "stream",
     "text": [
      "tensor([-0.7660, -0.9496, -0.2411], requires_grad=True)\n",
      "tensor([-784.4009, -972.4387, -246.9176], grad_fn=<MulBackward0>)\n"
     ]
    }
   ],
   "source": [
    "x = torch.randn(3, requires_grad=True)\n",
    "print(x)\n",
    "\n",
    "y = x * 2\n",
    "while y.data.norm() < 1000: #也可以直接写y.norm(), norm()计算y的p-范数，默认p=2\n",
    "    y = y * 2\n",
    "\n",
    "print(y)"
   ]
  },
  {
   "cell_type": "markdown",
   "metadata": {},
   "source": [
    "这个例子中``y``不再是一个标量，``torch.autograd``不能直接计算全部的Jacobian，但是如果我们只是想要vector-Jacobian乘积，只需要简单地传入一个向量作为``backward`` 的参数:\n"
   ]
  },
  {
   "cell_type": "code",
   "execution_count": 50,
   "metadata": {},
   "outputs": [
    {
     "name": "stdout",
     "output_type": "stream",
     "text": [
      "tensor([1.0240e+02, 1.0240e+03, 1.0240e-01])\n"
     ]
    }
   ],
   "source": [
    "v = torch.tensor([0.1, 1.0, 0.0001], dtype=torch.float)\n",
    "y.backward(v)\n",
    "\n",
    "print(x.grad)"
   ]
  },
  {
   "cell_type": "markdown",
   "metadata": {},
   "source": [
    "再来一个例子："
   ]
  },
  {
   "cell_type": "code",
   "execution_count": 51,
   "metadata": {},
   "outputs": [
    {
     "name": "stdout",
     "output_type": "stream",
     "text": [
      "tensor([[1., 2., 4.],\n",
      "        [3., 1., 2.]], requires_grad=True)\n",
      "tensor([[ 9., 16., 36.],\n",
      "        [25.,  9., 16.]], grad_fn=<MulBackward0>)\n",
      "tensor([[ 6.,  8., 12.],\n",
      "        [10.,  6.,  8.]])\n"
     ]
    }
   ],
   "source": [
    "x = torch.tensor([[1,2,4],[3,1,2]], dtype=torch.float, requires_grad=True)\n",
    "print(x)\n",
    "\n",
    "y = x + 2\n",
    "z = y * y\n",
    "print(z)\n",
    "\n",
    "z.backward(torch.ones_like(x))\n",
    "print(x.grad) #计算得到的就是z相对于x的导数"
   ]
  },
  {
   "cell_type": "markdown",
   "metadata": {},
   "source": [
    "也可以通过将代码块封装进``with torch.no_grad()``，来暂停``.requires_grad=True``的Tensors的历史跟踪。\n"
   ]
  },
  {
   "cell_type": "code",
   "execution_count": 52,
   "metadata": {},
   "outputs": [
    {
     "name": "stdout",
     "output_type": "stream",
     "text": [
      "True\n",
      "True\n",
      "False\n",
      "True\n"
     ]
    }
   ],
   "source": [
    "print(x.requires_grad)\n",
    "print((x ** 2).requires_grad)\n",
    "\n",
    "with torch.no_grad():\n",
    "\tprint((x ** 2).requires_grad)\n",
    "\n",
    "print((x ** 2).requires_grad)"
   ]
  },
  {
   "cell_type": "markdown",
   "metadata": {},
   "source": [
    "**延展阅读**\n",
    "\n",
    "``autograd`` 和 ``Function`` 的文档在https://pytorch.org/docs/autograd\n",
    "\n"
   ]
  }
 ],
 "metadata": {
  "kernelspec": {
   "display_name": "Python 3",
   "language": "python",
   "name": "python3"
  },
  "language_info": {
   "codemirror_mode": {
    "name": "ipython",
    "version": 3
   },
   "file_extension": ".py",
   "mimetype": "text/x-python",
   "name": "python",
   "nbconvert_exporter": "python",
   "pygments_lexer": "ipython3",
   "version": "3.6.8"
  }
 },
 "nbformat": 4,
 "nbformat_minor": 1
}
